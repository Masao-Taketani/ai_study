{
 "cells": [
  {
   "cell_type": "markdown",
   "metadata": {},
   "source": [
    "# 単回帰モデルの実装"
   ]
  },
  {
   "cell_type": "markdown",
   "metadata": {},
   "source": [
    "## 必要なライブラリのインポート"
   ]
  },
  {
   "cell_type": "code",
   "execution_count": 1,
   "metadata": {},
   "outputs": [],
   "source": [
    "import matplotlib.pyplot as plt\n",
    "%matplotlib inline\n",
    "import numpy as np\n",
    "from numpy.random import *"
   ]
  },
  {
   "cell_type": "markdown",
   "metadata": {},
   "source": [
    "## ①データを取得する"
   ]
  },
  {
   "cell_type": "code",
   "execution_count": 2,
   "metadata": {},
   "outputs": [
    {
     "name": "stdout",
     "output_type": "stream",
     "text": [
      "\"study hour\"\t\"score\"\n",
      "40\t91\n",
      "15\t38\n",
      "23\t62\n",
      "10\t30\n",
      "12\t45\n",
      "26\t49\n",
      "18\t50\n",
      "31\t63\n",
      "25\t87\n"
     ]
    }
   ],
   "source": [
    "with open(\"exam_results.tsv\", \"r\") as f:\n",
    "    data = f.read()\n",
    "    \n",
    "print(data)"
   ]
  },
  {
   "cell_type": "code",
   "execution_count": 3,
   "metadata": {},
   "outputs": [],
   "source": [
    "x = []\n",
    "y = []\n",
    "\n",
    "for i, line in enumerate(data.split(\"\\n\")):\n",
    "    if i == 0:\n",
    "        continue\n",
    "    tmp_x, tmp_y = line.split(\"\\t\")\n",
    "    x.append(int(tmp_x))\n",
    "    y.append(int(tmp_y))"
   ]
  },
  {
   "cell_type": "code",
   "execution_count": 4,
   "metadata": {},
   "outputs": [
    {
     "name": "stdout",
     "output_type": "stream",
     "text": [
      "x: [40, 15, 23, 10, 12, 26, 18, 31, 25]\n",
      "y: [91, 38, 62, 30, 45, 49, 50, 63, 87]\n"
     ]
    }
   ],
   "source": [
    "print(\"x:\", x)\n",
    "print(\"y:\", y)"
   ]
  },
  {
   "cell_type": "code",
   "execution_count": 5,
   "metadata": {},
   "outputs": [
    {
     "data": {
      "image/png": "[encoded data removed]",
      "text/plain": [
       "<Figure size 432x288 with 1 Axes>"
      ]
     },
     "metadata": {
      "needs_background": "light"
     },
     "output_type": "display_data"
    }
   ],
   "source": [
    "fig, ax = plt.subplots(1, 1)\n",
    "#plt.plot(x, y, marker=\"s\", color=\"blue\", linestyle=\":\")\n",
    "plt.plot(x, y, \"o\")\n",
    "plt.title(\"Study Hour vs Test Score\")\n",
    "ax.set_xlabel(\"Study Hours\")\n",
    "ax.set_ylabel(\"Test Score\")\n",
    "plt.ylim(0, 110)\n",
    "plt.show()"
   ]
  },
  {
   "cell_type": "markdown",
   "metadata": {},
   "source": [
    "## ②モデルの選択をする"
   ]
  },
  {
   "cell_type": "code",
   "execution_count": 6,
   "metadata": {},
   "outputs": [],
   "source": [
    "class LinearModel:\n",
    "    \n",
    "    def __init__(self):\n",
    "        self.a = normal(0.0, 0.1)\n",
    "        self.b = normal(0.0, 0.1)\n",
    "        \n",
    "    def __call__(self, x):\n",
    "        y = self.a * x + self.b\n",
    "        return y"
   ]
  },
  {
   "cell_type": "markdown",
   "metadata": {},
   "source": [
    "## ③傾き a と 切片 b のパラメータの初期値をランダムに決める"
   ]
  },
  {
   "cell_type": "code",
   "execution_count": 7,
   "metadata": {},
   "outputs": [],
   "source": [
    "# クラスLinearModelをインスタンス化するときにパラメータ a と b の初期化を行う\n",
    "linear_model = LinearModel()"
   ]
  },
  {
   "cell_type": "code",
   "execution_count": 8,
   "metadata": {},
   "outputs": [
    {
     "name": "stdout",
     "output_type": "stream",
     "text": [
      "aの値: -0.14209015135733102 bの値: 0.10452435983418473\n"
     ]
    }
   ],
   "source": [
    "# パラメータ\"a\"と\"b\"の値の確認\n",
    "print(\"aの値:\", linear_model.a, \"bの値:\", linear_model.b)"
   ]
  },
  {
   "cell_type": "markdown",
   "metadata": {},
   "source": [
    "## ④目的関数の設定"
   ]
  },
  {
   "cell_type": "code",
   "execution_count": 9,
   "metadata": {},
   "outputs": [],
   "source": [
    "def mean_squared_error(true_value, predicted_value):\n",
    "    E = 1/2 * np.square(true_value - predicted_value)\n",
    "    return E"
   ]
  },
  {
   "cell_type": "markdown",
   "metadata": {},
   "source": [
    "## ⑤勾配降下法で学習"
   ]
  },
  {
   "cell_type": "code",
   "execution_count": 10,
   "metadata": {},
   "outputs": [
    {
     "name": "stdout",
     "output_type": "stream",
     "text": [
      "標準化後のx:\n",
      "[1.9611613513818404, -0.7967217989988725, 0.0858008091229556, -1.348298429075015, -1.127667777044558, 0.41674678716864116, -0.465775820953187, 0.9683234172447838, 0.30643146115341263]\n",
      "標準化後のy:\n",
      "[1.7218338830893947, -0.9798594137317935, 0.2435488716211973, -1.3876621755161238, -0.6230319971705046, -0.4191306162783394, -0.36815527105529816, 0.2945242168442386, 1.5179325021972294]\n"
     ]
    }
   ],
   "source": [
    "# データに対して標準化を行う\n",
    "def standardize(list_values):\n",
    "    np_array = np.array(list_values)\n",
    "    mean = np_array.mean()\n",
    "    std = np_array.std()\n",
    "    results = []\n",
    "    for num in list_values:\n",
    "        z = (num - mean) / std\n",
    "        results.append(z)\n",
    "    return results, mean, std\n",
    "\n",
    "standardized_x, x_mean, x_std = standardize(x)\n",
    "standardized_y, y_mean, y_std = standardize(y)\n",
    "print(\"標準化後のx:\")\n",
    "print(standardized_x)\n",
    "print(\"標準化後のy:\")\n",
    "print(standardized_y)"
   ]
  },
  {
   "cell_type": "code",
   "execution_count": 11,
   "metadata": {},
   "outputs": [
    {
     "name": "stdout",
     "output_type": "stream",
     "text": [
      "epoch: 1, loss: 1.061\n",
      "epoch: 1000, loss: 0.900\n",
      "epoch: 2000, loss: 0.838\n",
      "epoch: 3000, loss: 0.814\n",
      "epoch: 4000, loss: 0.804\n",
      "epoch: 5000, loss: 0.800\n",
      "epoch: 6000, loss: 0.798\n",
      "epoch: 7000, loss: 0.798\n",
      "epoch: 8000, loss: 0.797\n",
      "epoch: 9000, loss: 0.797\n",
      "epoch: 10000, loss: 0.797\n"
     ]
    }
   ],
   "source": [
    "E_log = []\n",
    "\n",
    "num_epoch = 10000\n",
    "learning_rate = 0.0001\n",
    "\n",
    "for epoch in range(num_epoch):\n",
    "    for (x_i, y_i) in zip(standardized_x, standardized_y):\n",
    "        pred_i = linear_model(x_i)\n",
    "        E = mean_squared_error(y_i, pred_i)\n",
    "        E_log.append(E)\n",
    "        parts_of_gradient = (pred_i - y_i)\n",
    "        linear_model.a = linear_model.a - learning_rate * (parts_of_gradient * x_i)\n",
    "        linear_model.b = linear_model.b - learning_rate * (parts_of_gradient * 1)\n",
    "        \n",
    "    if epoch == 0 or ((epoch+1) % 1000) == 0:\n",
    "        print(\"epoch: {}, loss: {:,.3f}\".format(epoch+1, E))\n",
    "        "
   ]
  },
  {
   "cell_type": "markdown",
   "metadata": {},
   "source": [
    "## 学習されたモデルの確認"
   ]
  },
  {
   "cell_type": "code",
   "execution_count": 12,
   "metadata": {},
   "outputs": [
    {
     "name": "stdout",
     "output_type": "stream",
     "text": [
      "モデルが予測した値：\n"
     ]
    },
    {
     "data": {
      "text/plain": [
       "[1.6338912208414726,\n",
       " -0.663675435225579,\n",
       " 0.07154589471587743,\n",
       " -1.1231887664389892,\n",
       " -0.9393834339536251,\n",
       " 0.34725389344392366,\n",
       " -0.38796743649753285,\n",
       " 0.806767224657334,\n",
       " 0.2553512272012416]"
      ]
     },
     "execution_count": 12,
     "metadata": {},
     "output_type": "execute_result"
    }
   ],
   "source": [
    "predicted_values = []\n",
    "\n",
    "for i in standardized_x:\n",
    "    output = linear_model(i)\n",
    "    predicted_values.append(output)\n",
    "print(\"モデルが予測した値：\")\n",
    "predicted_values"
   ]
  },
  {
   "cell_type": "code",
   "execution_count": 13,
   "metadata": {},
   "outputs": [
    {
     "name": "stdout",
     "output_type": "stream",
     "text": [
      "標準化された予測値を元に状態に戻した値：\n"
     ]
    },
    {
     "data": {
      "text/plain": [
       "[89.27480006534275,\n",
       " 44.202684398168564,\n",
       " 58.6257614116643,\n",
       " 35.188261264733725,\n",
       " 38.79403051810766,\n",
       " 64.0344152917252,\n",
       " 49.61133827822946,\n",
       " 73.04883842516004,\n",
       " 62.231530665038235]"
      ]
     },
     "execution_count": 13,
     "metadata": {},
     "output_type": "execute_result"
    }
   ],
   "source": [
    "def destandardize(standardized_v, mean, std):\n",
    "    output = mean + standardized_v * std\n",
    "    return output\n",
    "    \n",
    "outputs = []\n",
    "for standardized_v in predicted_values:\n",
    "    out = destandardize(standardized_v, y_mean, y_std)\n",
    "    outputs.append(out)\n",
    "    \n",
    "print(\"標準化された予測値を元に状態に戻した値：\")\n",
    "outputs"
   ]
  },
  {
   "cell_type": "code",
   "execution_count": 14,
   "metadata": {},
   "outputs": [],
   "source": [
    "def model_predict(inputs):\n",
    "    std_x_for_model = (inputs - x_mean) / x_std\n",
    "    np_arr_std_x_for_model = np.array(std_x_for_model)\n",
    "    standardized_pred_values = linear_model(np_arr_std_x_for_model)\n",
    "    pred_values = []\n",
    "    for standardized_v in standardized_pred_values:\n",
    "        out = destandardize(standardized_v, y_mean, y_std)\n",
    "        pred_values.append(out)\n",
    "    return pred_values"
   ]
  },
  {
   "cell_type": "code",
   "execution_count": 15,
   "metadata": {},
   "outputs": [
    {
     "data": {
      "image/png": "[encoded data removed]",
      "text/plain": [
       "<Figure size 432x288 with 1 Axes>"
      ]
     },
     "metadata": {
      "needs_background": "light"
     },
     "output_type": "display_data"
    }
   ],
   "source": [
    "x_for_model = np.linspace(0, 50, 1000)\n",
    "pred_values = model_predict(x_for_model)\n",
    "plt.plot(x, y, 'o')\n",
    "plt.plot(x_for_model, pred_values)\n",
    "plt.title(\"Study Hour vs Test Score\")\n",
    "ax.set_xlabel(\"Study Hours\")\n",
    "ax.set_ylabel(\"Test Score\")\n",
    "plt.ylim(0, 110)\n",
    "plt.show()"
   ]
  },
  {
   "cell_type": "code",
   "execution_count": 16,
   "metadata": {},
   "outputs": [],
   "source": [
    "def main():\n",
    "    x = input(\"あなたが勉強する予定の時間を入力してください。: \")\n",
    "    try:\n",
    "        std_x = (float(x) - x_mean) / x_std\n",
    "        output = linear_model(std_x)\n",
    "        predicted_score = destandardize(output, y_mean, y_std)\n",
    "        # from np.float64 to float\n",
    "        predicted_score = float(predicted_score)\n",
    "        if predicted_score < 0:\n",
    "            raise ValueError(\"正しい値を入力してください。\")\n",
    "        elif predicted_score >= 100:\n",
    "            predicted_score = 100\n",
    "        elif predicted_score < 0:\n",
    "            predicted_score = 0\n",
    "        print(\"あなたはこのクラスのテストで {}点 \"\n",
    "              \"とることができるでしょう。\".format(round(predicted_score)))\n",
    "    except ValueError:\n",
    "        print(\"数値を入力してください。\")"
   ]
  },
  {
   "cell_type": "code",
   "execution_count": 18,
   "metadata": {},
   "outputs": [
    {
     "name": "stdout",
     "output_type": "stream",
     "text": [
      "あなたが勉強する予定の時間を入力してください。: 0\n",
      "あなたはこのクラスのテストで 17点 とることができるでしょう。\n"
     ]
    }
   ],
   "source": [
    "main()"
   ]
  },
  {
   "cell_type": "code",
   "execution_count": null,
   "metadata": {},
   "outputs": [],
   "source": []
  }
 ],
 "metadata": {
  "kernelspec": {
   "display_name": "Python 3",
   "language": "python",
   "name": "python3"
  },
  "language_info": {
   "codemirror_mode": {
    "name": "ipython",
    "version": 3
   },
   "file_extension": ".py",
   "mimetype": "text/x-python",
   "name": "python",
   "nbconvert_exporter": "python",
   "pygments_lexer": "ipython3",
   "version": "3.6.4"
  }
 },
 "nbformat": 4,
 "nbformat_minor": 2
}
